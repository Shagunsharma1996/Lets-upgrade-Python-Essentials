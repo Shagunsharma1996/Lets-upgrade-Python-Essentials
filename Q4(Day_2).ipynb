{
  "nbformat": 4,
  "nbformat_minor": 0,
  "metadata": {
    "colab": {
      "name": "Q4(Day 2).ipynb",
      "provenance": []
    },
    "kernelspec": {
      "name": "python3",
      "display_name": "Python 3"
    }
  },
  "cells": [
    {
      "cell_type": "code",
      "metadata": {
        "id": "GEIH3KOySnne",
        "colab_type": "code",
        "colab": {
          "base_uri": "https://localhost:8080/",
          "height": 34
        },
        "outputId": "07f2bd06-3cba-416f-fed4-eb2ca2c4ed69"
      },
      "source": [
        "tup=(1,2,3,4)\n",
        "print(type(tup))"
      ],
      "execution_count": 1,
      "outputs": [
        {
          "output_type": "stream",
          "text": [
            "<class 'tuple'>\n"
          ],
          "name": "stdout"
        }
      ]
    },
    {
      "cell_type": "code",
      "metadata": {
        "id": "BAS2zgeUS4zT",
        "colab_type": "code",
        "colab": {
          "base_uri": "https://localhost:8080/",
          "height": 51
        },
        "outputId": "9fa48f1f-d941-4721-bb0e-e12e36c47d9e"
      },
      "source": [
        "print(tup[0])\n",
        "print(tup[-1])"
      ],
      "execution_count": 2,
      "outputs": [
        {
          "output_type": "stream",
          "text": [
            "1\n",
            "4\n"
          ],
          "name": "stdout"
        }
      ]
    },
    {
      "cell_type": "code",
      "metadata": {
        "id": "Q1oLg6pMTCt4",
        "colab_type": "code",
        "colab": {
          "base_uri": "https://localhost:8080/",
          "height": 34
        },
        "outputId": "67ab6c7b-ff00-4dd5-bfd5-e6c054bd1db8"
      },
      "source": [
        "print(tup[0:2])\n"
      ],
      "execution_count": 3,
      "outputs": [
        {
          "output_type": "stream",
          "text": [
            "(1, 2)\n"
          ],
          "name": "stdout"
        }
      ]
    },
    {
      "cell_type": "code",
      "metadata": {
        "id": "Ex7g2X57TM8s",
        "colab_type": "code",
        "colab": {
          "base_uri": "https://localhost:8080/",
          "height": 51
        },
        "outputId": "d1be92c1-5c1d-4239-fe1d-ecadce9ceacc"
      },
      "source": [
        "print(1 in tup)\n",
        "print(5 in tup)"
      ],
      "execution_count": 5,
      "outputs": [
        {
          "output_type": "stream",
          "text": [
            "True\n",
            "False\n"
          ],
          "name": "stdout"
        }
      ]
    },
    {
      "cell_type": "code",
      "metadata": {
        "id": "HxtuwjAUTa3V",
        "colab_type": "code",
        "colab": {
          "base_uri": "https://localhost:8080/",
          "height": 85
        },
        "outputId": "1aa887fb-5ecb-48b2-e420-6a1e6c6d2a92"
      },
      "source": [
        "for name in tup:\n",
        "  print(\"DIGIT\",name)"
      ],
      "execution_count": 6,
      "outputs": [
        {
          "output_type": "stream",
          "text": [
            "DIGIT 1\n",
            "DIGIT 2\n",
            "DIGIT 3\n",
            "DIGIT 4\n"
          ],
          "name": "stdout"
        }
      ]
    }
  ]
}