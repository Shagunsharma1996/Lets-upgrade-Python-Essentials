{
  "nbformat": 4,
  "nbformat_minor": 0,
  "metadata": {
    "colab": {
      "name": "DAY9(Assignment(Q1&Q2).ipynb",
      "provenance": []
    },
    "kernelspec": {
      "name": "python3",
      "display_name": "Python 3"
    }
  },
  "cells": [
    {
      "cell_type": "code",
      "metadata": {
        "id": "3YXMJWw-CeAk",
        "colab_type": "code",
        "colab": {
          "base_uri": "https://localhost:8080/",
          "height": 34
        },
        "outputId": "5a0fda88-6ba1-4b24-a655-fcb366f8b4bb"
      },
      "source": [
        "%%writefile code.ipynb\n",
        "'''\n",
        "Program to find whether a number is prime or not\n",
        "'''\n",
        "n = int(input(\"Enter any number: \"))\n",
        "if n > 1:\n",
        "    for i in range(2,n):\n",
        "        if (n % i) == 0:\n",
        "            print(n,\"is not a prime number\")\n",
        "            print(i,\"times\",n//i,\"is\",n)\n",
        "            break\n",
        "    else:\n",
        "        print(n,\"is a prime number\")\n",
        "else:\n",
        "    print(n,\"is not a prime number\")\n",
        "    \n"
      ],
      "execution_count": 6,
      "outputs": [
        {
          "output_type": "stream",
          "text": [
            "Overwriting code.ipynb\n"
          ],
          "name": "stdout"
        }
      ]
    },
    {
      "cell_type": "code",
      "metadata": {
        "id": "wdA3OUuVDc1a",
        "colab_type": "code",
        "colab": {
          "base_uri": "https://localhost:8080/",
          "height": 258
        },
        "outputId": "7842c289-f048-4afa-9cf6-6029bb3f47ab"
      },
      "source": [
        "! pip install pylint\n",
        "\n",
        "! pylint \"code.ipynb\"\n"
      ],
      "execution_count": 7,
      "outputs": [
        {
          "output_type": "stream",
          "text": [
            "Requirement already satisfied: pylint in /usr/local/lib/python3.6/dist-packages (2.6.0)\n",
            "Requirement already satisfied: mccabe<0.7,>=0.6 in /usr/local/lib/python3.6/dist-packages (from pylint) (0.6.1)\n",
            "Requirement already satisfied: toml>=0.7.1 in /usr/local/lib/python3.6/dist-packages (from pylint) (0.10.1)\n",
            "Requirement already satisfied: astroid<=2.5,>=2.4.0 in /usr/local/lib/python3.6/dist-packages (from pylint) (2.4.2)\n",
            "Requirement already satisfied: isort<6,>=4.2.5 in /usr/local/lib/python3.6/dist-packages (from pylint) (5.5.2)\n",
            "Requirement already satisfied: lazy-object-proxy==1.4.* in /usr/local/lib/python3.6/dist-packages (from astroid<=2.5,>=2.4.0->pylint) (1.4.3)\n",
            "Requirement already satisfied: wrapt~=1.11 in /usr/local/lib/python3.6/dist-packages (from astroid<=2.5,>=2.4.0->pylint) (1.12.1)\n",
            "Requirement already satisfied: six~=1.12 in /usr/local/lib/python3.6/dist-packages (from astroid<=2.5,>=2.4.0->pylint) (1.15.0)\n",
            "Requirement already satisfied: typed-ast<1.5,>=1.4.0; implementation_name == \"cpython\" and python_version < \"3.8\" in /usr/local/lib/python3.6/dist-packages (from astroid<=2.5,>=2.4.0->pylint) (1.4.1)\n",
            "\n",
            "-------------------------------------------------------------------\n",
            "Your code has been rated at 10.00/10 (previous run: 8.89/10, +1.11)\n",
            "\n"
          ],
          "name": "stdout"
        }
      ]
    },
    {
      "cell_type": "code",
      "metadata": {
        "id": "c4iVVzRtD9Fp",
        "colab_type": "code",
        "colab": {}
      },
      "source": [
        "import unittest\n",
        "\n",
        "class TestPrime(unittest.TestCase):\n",
        "    def test_Prime(self,x):\n",
        "        self.p=x;\n",
        "        if num > 1:\n",
        "           for i in range(2,num):\n",
        "              if (num % i) == 0:\n",
        "                 print(num,\"is not a prime number\")\n",
        "                 print(i,\"times\",num//i,\"is\",num)\n",
        "                 break\n",
        "              else:\n",
        "                 print(num,\"is a prime number\")\n",
        "        else:\n",
        "            print(num,\"is not a prime number\")\n"
      ],
      "execution_count": 9,
      "outputs": []
    },
    {
      "cell_type": "code",
      "metadata": {
        "id": "BxN2whZFETSZ",
        "colab_type": "code",
        "colab": {
          "base_uri": "https://localhost:8080/",
          "height": 102
        },
        "outputId": "b61f3734-0e7a-4836-8d7f-99467e819d36"
      },
      "source": [
        "if __name__ == '__main__':\n",
        "unittest.main(3,argv=['first-arg-is-ignored'],exit=False)\n"
      ],
      "execution_count": 18,
      "outputs": [
        {
          "output_type": "stream",
          "text": [
            "\n",
            "----------------------------------------------------------------------\n",
            "Ran 0 tests in 0.000s\n",
            "\n",
            "OK\n"
          ],
          "name": "stderr"
        }
      ]
    },
    {
      "cell_type": "code",
      "metadata": {
        "id": "5Di71TnjFwhL",
        "colab_type": "code",
        "colab": {}
      },
      "source": [
        "def getArmstrongnum():\n",
        "   for num in range(1,1000):  \n",
        "      sum = 0  \n",
        "      temp = num  \n",
        "      while temp > 0:  \n",
        "          digit = temp % 10  \n",
        "          sum += digit ** 3  \n",
        "          temp //= 10  \n",
        "          if num == sum:  \n",
        "              yield num  \n",
        "\n"
      ],
      "execution_count": 19,
      "outputs": []
    },
    {
      "cell_type": "code",
      "metadata": {
        "id": "-51NLNbvGQ2p",
        "colab_type": "code",
        "colab": {
          "base_uri": "https://localhost:8080/",
          "height": 34
        },
        "outputId": "633a4cb2-4011-4dc9-874d-92bc93d5afd9"
      },
      "source": [
        "a=list ( getArmstrongnum () )\n",
        "print(a)"
      ],
      "execution_count": 20,
      "outputs": [
        {
          "output_type": "stream",
          "text": [
            "[1, 64, 125, 153, 216, 370, 371, 407, 729]\n"
          ],
          "name": "stdout"
        }
      ]
    }
  ]
}