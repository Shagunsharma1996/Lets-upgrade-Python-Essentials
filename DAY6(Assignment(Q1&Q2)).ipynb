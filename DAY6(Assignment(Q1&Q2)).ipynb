{
  "nbformat": 4,
  "nbformat_minor": 0,
  "metadata": {
    "colab": {
      "name": "DAY6(Assignment(Q1&Q2)).ipynb",
      "provenance": [],
      "collapsed_sections": []
    },
    "kernelspec": {
      "name": "python3",
      "display_name": "Python 3"
    }
  },
  "cells": [
    {
      "cell_type": "code",
      "metadata": {
        "id": "-oGRIJitz4WR",
        "colab_type": "code",
        "colab": {}
      },
      "source": [
        "class bankAccount():\n",
        "    ownerName='Shagun Sharma'\n",
        "    account=100000\n",
        "    def getattr(self):\n",
        "      print(ownerName)\n",
        "      print(account)\n",
        "    def deposit(self,x):\n",
        "      self.account=self.account+x\n",
        "    def withdrawl(self,x):\n",
        "      if x<=self.account:\n",
        "        account=account-x\n",
        "      else:\n",
        "        print(\"Withdrawl amount is more than balance\")   "
      ],
      "execution_count": 4,
      "outputs": []
    },
    {
      "cell_type": "code",
      "metadata": {
        "id": "Y_7ZvyxH1cGO",
        "colab_type": "code",
        "colab": {
          "base_uri": "https://localhost:8080/",
          "height": 51
        },
        "outputId": "51a70184-34e9-4a22-ef87-39e749417a85"
      },
      "source": [
        "a1=bankAccount()\n",
        "ac=a1.withdrawl(500000)\n",
        "print(ac)"
      ],
      "execution_count": 6,
      "outputs": [
        {
          "output_type": "stream",
          "text": [
            "Withdrawl amount is more than balance\n",
            "None\n"
          ],
          "name": "stdout"
        }
      ]
    },
    {
      "cell_type": "code",
      "metadata": {
        "id": "oMo212EY4C1O",
        "colab_type": "code",
        "colab": {
          "base_uri": "https://localhost:8080/",
          "height": 34
        },
        "outputId": "761a2730-16ef-4f0d-873c-b545086f37f5"
      },
      "source": [
        "a1.deposit(500)\n",
        "print(a1.account)\n"
      ],
      "execution_count": 7,
      "outputs": [
        {
          "output_type": "stream",
          "text": [
            "100500\n"
          ],
          "name": "stdout"
        }
      ]
    },
    {
      "cell_type": "code",
      "metadata": {
        "id": "SgMtT0XN4OHo",
        "colab_type": "code",
        "colab": {}
      },
      "source": [
        "class cone():\n",
        "  def volume(self,x,y):\n",
        "    self.r=x\n",
        "    self.h=y\n",
        "    vol=3.14*(self.r**2)*self.h/3\n",
        "    print(vol)\n",
        "  def surface(self,x,y):\n",
        "    self.r=x\n",
        "    self.h=y\n",
        "    surf=3.14*(self.r**2)+3.14*self.r*((self.r**2+self.h**2)**1/2)\n",
        "    print(surf)"
      ],
      "execution_count": 9,
      "outputs": []
    },
    {
      "cell_type": "code",
      "metadata": {
        "id": "_-dihFuR4f7Q",
        "colab_type": "code",
        "colab": {
          "base_uri": "https://localhost:8080/",
          "height": 34
        },
        "outputId": "d6bc67bc-da5a-4688-ad22-2901eaee67c9"
      },
      "source": [
        "a=cone() \n",
        "a.volume(2,3)\n"
      ],
      "execution_count": 10,
      "outputs": [
        {
          "output_type": "stream",
          "text": [
            "12.56\n"
          ],
          "name": "stdout"
        }
      ]
    },
    {
      "cell_type": "code",
      "metadata": {
        "id": "tqqlCZ-u4kVL",
        "colab_type": "code",
        "colab": {
          "base_uri": "https://localhost:8080/",
          "height": 34
        },
        "outputId": "4629553e-93a9-4c47-96d6-ba7bd224fb17"
      },
      "source": [
        "a.surface(2,3)\n"
      ],
      "execution_count": 11,
      "outputs": [
        {
          "output_type": "stream",
          "text": [
            "53.38\n"
          ],
          "name": "stdout"
        }
      ]
    }
  ]
}