{
  "nbformat": 4,
  "nbformat_minor": 0,
  "metadata": {
    "colab": {
      "name": "Q2(day 2)",
      "provenance": [],
      "collapsed_sections": []
    },
    "kernelspec": {
      "name": "python3",
      "display_name": "Python 3"
    }
  },
  "cells": [
    {
      "cell_type": "code",
      "metadata": {
        "id": "SmwQzSoZ4qPf",
        "colab_type": "code",
        "colab": {
          "base_uri": "https://localhost:8080/",
          "height": 34
        },
        "outputId": "ed057eec-8ddb-4089-e36f-d11b5c507449"
      },
      "source": [
        "dict={1:'mon',2:'tue',3:'wed',4:'thur',5:'fri',6:'sat'}\n",
        "dict[1]='monday'\n",
        "print(dict)"
      ],
      "execution_count": 1,
      "outputs": [
        {
          "output_type": "stream",
          "text": [
            "{1: 'monday', 2: 'tue', 3: 'wed', 4: 'thur', 5: 'fri', 6: 'sat'}\n"
          ],
          "name": "stdout"
        }
      ]
    },
    {
      "cell_type": "code",
      "metadata": {
        "id": "e5ZlSeTSPtlg",
        "colab_type": "code",
        "colab": {
          "base_uri": "https://localhost:8080/",
          "height": 34
        },
        "outputId": "30ffc1ee-9512-4166-8b8f-5fa498ab14d5"
      },
      "source": [
        "dict[7]='sun'\n",
        "print(dict)"
      ],
      "execution_count": 2,
      "outputs": [
        {
          "output_type": "stream",
          "text": [
            "{1: 'monday', 2: 'tue', 3: 'wed', 4: 'thur', 5: 'fri', 6: 'sat', 7: 'sun'}\n"
          ],
          "name": "stdout"
        }
      ]
    },
    {
      "cell_type": "code",
      "metadata": {
        "id": "3wbieALRP4tD",
        "colab_type": "code",
        "colab": {
          "base_uri": "https://localhost:8080/",
          "height": 34
        },
        "outputId": "446c5adb-c3f7-4bc6-f2e5-cbafa5f8df81"
      },
      "source": [
        "print(dict.pop(7))"
      ],
      "execution_count": 3,
      "outputs": [
        {
          "output_type": "stream",
          "text": [
            "sun\n"
          ],
          "name": "stdout"
        }
      ]
    },
    {
      "cell_type": "code",
      "metadata": {
        "id": "Af01wpG0QFLs",
        "colab_type": "code",
        "colab": {
          "base_uri": "https://localhost:8080/",
          "height": 34
        },
        "outputId": "66537d58-ba63-4998-b250-6a289430c880"
      },
      "source": [
        "dict.popitem()\n",
        "print(dict)"
      ],
      "execution_count": 4,
      "outputs": [
        {
          "output_type": "stream",
          "text": [
            "{1: 'monday', 2: 'tue', 3: 'wed', 4: 'thur', 5: 'fri'}\n"
          ],
          "name": "stdout"
        }
      ]
    },
    {
      "cell_type": "code",
      "metadata": {
        "id": "yrlzCmLEQP0Y",
        "colab_type": "code",
        "colab": {
          "base_uri": "https://localhost:8080/",
          "height": 34
        },
        "outputId": "b2a1caea-331a-48f5-e829-a8c27fb7738d"
      },
      "source": [
        "dict.clear()\n",
        "print(dict)"
      ],
      "execution_count": 5,
      "outputs": [
        {
          "output_type": "stream",
          "text": [
            "{}\n"
          ],
          "name": "stdout"
        }
      ]
    }
  ]
}