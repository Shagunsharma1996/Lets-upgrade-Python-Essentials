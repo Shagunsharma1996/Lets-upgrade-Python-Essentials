{
  "nbformat": 4,
  "nbformat_minor": 0,
  "metadata": {
    "colab": {
      "name": "DAY8(Assignment(Q1&Q2)).ipynb",
      "provenance": [],
      "collapsed_sections": []
    },
    "kernelspec": {
      "name": "python3",
      "display_name": "Python 3"
    }
  },
  "cells": [
    {
      "cell_type": "code",
      "metadata": {
        "id": "MOF3ZrCl_3hF",
        "colab_type": "code",
        "colab": {
          "base_uri": "https://localhost:8080/",
          "height": 221
        },
        "outputId": "2d0653d9-bfd6-430e-f24a-1b8ea9e6cec2"
      },
      "source": [
        "def Fib(n):  \n",
        "   if n <= 1:  \n",
        "       return n  \n",
        "   else:  \n",
        "       return(Fib(n-1) + Fib(n-2))  \n",
        "nterms = int(input(\"Enter the term\"))  \n",
        "if nterms <= 0:\n",
        "   print(\"Enter a positive integer\")  \n",
        "else:  \n",
        "   print(\"Fibonacci sequence:\")  \n",
        "   for i in range(nterms):  \n",
        "       print(Fib(i))\n"
      ],
      "execution_count": 1,
      "outputs": [
        {
          "output_type": "stream",
          "text": [
            "Enter the terms? 10\n",
            "Fibonacci sequence:\n",
            "0\n",
            "1\n",
            "1\n",
            "2\n",
            "3\n",
            "5\n",
            "8\n",
            "13\n",
            "21\n",
            "34\n"
          ],
          "name": "stdout"
        }
      ]
    },
    {
      "cell_type": "code",
      "metadata": {
        "id": "6pO4biIiA3JR",
        "colab_type": "code",
        "colab": {
          "base_uri": "https://localhost:8080/",
          "height": 51
        },
        "outputId": "e29c74c6-c126-4717-f4b7-7f248b43b6c2"
      },
      "source": [
        "try :\n",
        "    file = open(\"Shagun.txt\",\"r\")\n",
        "    file.write(\"We are dividing integer with 0\")\n",
        "except Exception as e:\n",
        "    print(e)\n",
        "try :        \n",
        "    file.write(10/0)\n",
        "    file.close()\n",
        "    print(\"Success\")\n",
        "except Exception as e:\n",
        "    print(e)"
      ],
      "execution_count": 3,
      "outputs": [
        {
          "output_type": "stream",
          "text": [
            "not writable\n",
            "division by zero\n"
          ],
          "name": "stdout"
        }
      ]
    },
    {
      "cell_type": "code",
      "metadata": {
        "id": "otcrtMIAAltf",
        "colab_type": "code",
        "colab": {}
      },
      "source": [
        ""
      ],
      "execution_count": null,
      "outputs": []
    }
  ]
}