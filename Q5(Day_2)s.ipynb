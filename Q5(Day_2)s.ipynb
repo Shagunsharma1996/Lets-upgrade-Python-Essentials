{
  "nbformat": 4,
  "nbformat_minor": 0,
  "metadata": {
    "colab": {
      "name": "Q5(Day 2)s.ipynb",
      "provenance": []
    },
    "kernelspec": {
      "name": "python3",
      "display_name": "Python 3"
    }
  },
  "cells": [
    {
      "cell_type": "code",
      "metadata": {
        "id": "Xa3JvcwZT1RS",
        "colab_type": "code",
        "colab": {
          "base_uri": "https://localhost:8080/",
          "height": 34
        },
        "outputId": "254c77ff-c1f1-4f4c-b748-ef1c8b8fd4c7"
      },
      "source": [
        "info='Hello my name is Shagun Sharma'\n",
        "print(info[6:24])"
      ],
      "execution_count": 2,
      "outputs": [
        {
          "output_type": "stream",
          "text": [
            "my name is Shagun \n"
          ],
          "name": "stdout"
        }
      ]
    },
    {
      "cell_type": "code",
      "metadata": {
        "id": "tuHGu4ZGUUcF",
        "colab_type": "code",
        "colab": {
          "base_uri": "https://localhost:8080/",
          "height": 34
        },
        "outputId": "c775dc84-2587-490a-ff49-d9e579fd5b58"
      },
      "source": [
        "i='I live in Noida'\n",
        "print(info+\" \"+i)"
      ],
      "execution_count": 4,
      "outputs": [
        {
          "output_type": "stream",
          "text": [
            "Hello my name is Shagun Sharma I live in Noida\n"
          ],
          "name": "stdout"
        }
      ]
    },
    {
      "cell_type": "code",
      "metadata": {
        "id": "5nZ4Ll4IVEVx",
        "colab_type": "code",
        "colab": {
          "base_uri": "https://localhost:8080/",
          "height": 34
        },
        "outputId": "a727aa80-cee3-4fe7-90eb-5ed7df213c48"
      },
      "source": [
        "print(i*2)"
      ],
      "execution_count": 7,
      "outputs": [
        {
          "output_type": "stream",
          "text": [
            "I live in NoidaI live in Noida\n"
          ],
          "name": "stdout"
        }
      ]
    },
    {
      "cell_type": "code",
      "metadata": {
        "id": "UuEq3UkHVUaz",
        "colab_type": "code",
        "colab": {
          "base_uri": "https://localhost:8080/",
          "height": 34
        },
        "outputId": "fe6fd8b2-312e-48a3-bafd-3a3075146cbd"
      },
      "source": [
        "count=0\n",
        "for letter in info:\n",
        "  count += 1\n",
        "print(count,'LETTERS FOUND')"
      ],
      "execution_count": 9,
      "outputs": [
        {
          "output_type": "stream",
          "text": [
            "30 LETTERS FOUND\n"
          ],
          "name": "stdout"
        }
      ]
    },
    {
      "cell_type": "code",
      "metadata": {
        "id": "aA5U3FfUWK67",
        "colab_type": "code",
        "colab": {
          "base_uri": "https://localhost:8080/",
          "height": 35
        },
        "outputId": "fed25d0c-e29d-4119-c087-2523cff75dde"
      },
      "source": [
        "i.replace('Noida','Bareilly')"
      ],
      "execution_count": 10,
      "outputs": [
        {
          "output_type": "execute_result",
          "data": {
            "application/vnd.google.colaboratory.intrinsic+json": {
              "type": "string"
            },
            "text/plain": [
              "'I live in Bareilly'"
            ]
          },
          "metadata": {
            "tags": []
          },
          "execution_count": 10
        }
      ]
    }
  ]
}